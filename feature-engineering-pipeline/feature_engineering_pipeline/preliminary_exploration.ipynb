{
 "cells": [
  {
   "cell_type": "code",
   "execution_count": 2,
   "metadata": {},
   "outputs": [
    {
     "name": "stderr",
     "output_type": "stream",
     "text": [
      "/var/folders/sz/1kc6hj850ps8d9bbrtzsswcw0000gn/T/ipykernel_88208/3232028448.py:8: DeprecationWarning: \n",
      "Pyarrow will become a required dependency of pandas in the next major release of pandas (pandas 3.0),\n",
      "(to allow more performant data types, such as the Arrow string type, and better interoperability with other libraries)\n",
      "but was not found to be installed on your system.\n",
      "If this would cause problems for you,\n",
      "please provide us feedback at https://github.com/pandas-dev/pandas/issues/54466\n",
      "        \n",
      "  import pandas\n"
     ]
    }
   ],
   "source": [
    "#import relevant libraries\n",
    "\n",
    "import requests\n",
    "import json\n",
    "from pprint import pprint\n",
    "import operator\n",
    "import numpy\n",
    "import pandas \n",
    "\n",
    "# from datetime module\n",
    "from datetime import date\n",
    "from datetime import timedelta\n",
    "from pathlib import Path  \n",
    "\n",
    "# My Team info\n",
    "team_id = 3402291\n",
    "\n",
    "\n",
    "# Modelling\n",
    "from sklearn.ensemble import RandomForestClassifier\n",
    "from sklearn.metrics import accuracy_score, confusion_matrix, precision_score, recall_score, ConfusionMatrixDisplay\n",
    "from sklearn.model_selection import RandomizedSearchCV, train_test_split\n",
    "from scipy.stats import randint\n",
    "\n",
    "# Tree Visualisation\n",
    "from sklearn.tree import export_graphviz\n",
    "from IPython.display import Image\n",
    "#import graphviz\n"
   ]
  },
  {
   "cell_type": "markdown",
   "metadata": {},
   "source": [
    "### Overall Player Transfer Data"
   ]
  },
  {
   "cell_type": "code",
   "execution_count": 3,
   "metadata": {},
   "outputs": [
    {
     "name": "stdout",
     "output_type": "stream",
     "text": [
      "{ 'element_stats': [...],\n",
      "  'element_types': [...],\n",
      "  'elements': [...],\n",
      "  'events': [...],\n",
      "  'game_settings': {...},\n",
      "  'phases': [...],\n",
      "  'teams': [...],\n",
      "  'total_players': 10677967}\n"
     ]
    }
   ],
   "source": [
    "# Request Information on all players today (now?)\n",
    "base_url = 'https://fantasy.premierleague.com/api/'\n",
    "# with open('/Users/thomasribaroff/Documents/GitHub/FullPipeline-FPLPricePredictor/feature-engineering-pipeline/Saved_Data/2024-02-14/2024-02-14.json') as f:\n",
    "#     r_all_players_today = json.load(f)\n",
    "r_all_players_today = requests.get(base_url+'bootstrap-static/').json()\n",
    "pprint(r_all_players_today, indent=2, depth=1, compact=True)"
   ]
  },
  {
   "cell_type": "code",
   "execution_count": 4,
   "metadata": {},
   "outputs": [
    {
     "name": "stdout",
     "output_type": "stream",
     "text": [
      "2024-02-17\n"
     ]
    }
   ],
   "source": [
    "# Get today's date\n",
    "today = date.today()\n",
    "#yesterday = today - timedelta(days = 1) \n",
    "print(today)\n",
    "\n",
    "# Define today's filepath\n",
    "today_filepath = Path('/Users/thomasribaroff/Documents/GitHub/FullPipeline-FPLPricePredictor/feature-engineering-pipeline/Saved_Data/{}'.format(today))\n",
    "\n",
    "# Make the directory for the json file\n",
    "today_filepath.mkdir(parents=True, exist_ok=True)\n",
    "\n",
    "# Save today's json file in the directory\n",
    "with open(\"/Users/thomasribaroff/Documents/GitHub/FullPipeline-FPLPricePredictor/feature-engineering-pipeline/Saved_Data/{}/{}.json\".format(today,today), \"w+\") as f:\n",
    "    json.dump(r_all_players_today, f)"
   ]
  },
  {
   "cell_type": "code",
   "execution_count": 5,
   "metadata": {},
   "outputs": [],
   "source": [
    "overall_events_data = pandas.DataFrame(r_all_players_today['events'])\n",
    "todays_player_data = pandas.DataFrame(r_all_players_today['elements'])\n",
    "total_players = r_all_players_today['total_players']"
   ]
  },
  {
   "cell_type": "code",
   "execution_count": 6,
   "metadata": {},
   "outputs": [],
   "source": [
    "# Total Active players in the game at this point in time (estimate)\n",
    "current_gameweek = numpy.where(overall_events_data.is_current)[0][0] + 1\n",
    "total_active_players_estimate = int(round(total_players*(0.97)**current_gameweek))"
   ]
  },
  {
   "cell_type": "code",
   "execution_count": 7,
   "metadata": {},
   "outputs": [],
   "source": [
    "# Net transfers of players at this moment \n",
    "\n",
    "all_players_transfers_in = todays_player_data.transfers_in\n",
    "all_players_transfers_out = todays_player_data.transfers_out\n",
    "net_transfers_overall_today = all_players_transfers_in - all_players_transfers_out"
   ]
  },
  {
   "cell_type": "code",
   "execution_count": 8,
   "metadata": {},
   "outputs": [],
   "source": [
    "# Price Change so far this event \n",
    "\n",
    "all_players_price_change_for_current_event = todays_player_data.cost_change_event"
   ]
  },
  {
   "cell_type": "code",
   "execution_count": 9,
   "metadata": {},
   "outputs": [],
   "source": [
    "# Players prices today\n",
    "\n",
    "all_players_prices_today = todays_player_data.now_cost"
   ]
  },
  {
   "cell_type": "code",
   "execution_count": 10,
   "metadata": {},
   "outputs": [],
   "source": [
    "# Player currently flagged red\n",
    "\n",
    "list_of_all_players_status = todays_player_data.status\n",
    "boolean_list_of_players_injured = [True if x == 'i' else False for x in list_of_all_players_status]"
   ]
  },
  {
   "cell_type": "code",
   "execution_count": 11,
   "metadata": {},
   "outputs": [
    {
     "name": "stdout",
     "output_type": "stream",
     "text": [
      "2024-02-17\n"
     ]
    }
   ],
   "source": [
    "# # Get today's date\n",
    "today = date.today() #- timedelta(days = 1) \n",
    "yesterday = today - timedelta(days = 1) \n",
    "print(today)"
   ]
  },
  {
   "cell_type": "code",
   "execution_count": 12,
   "metadata": {},
   "outputs": [],
   "source": [
    "# Create DataFrame from dictionary of all this transfer data\n",
    "\n",
    "price_change_dict = {\n",
    "    \"price_change_this_night\": numpy.nan, #tomorrow, we define this as today_data.player_prices_today - yesterday_data.player_prices_today\n",
    "    \"net_transfers_in_out_since_last_price_change\": 0, #tomorrow, we define this as yesterday_data.net_transfers_in_out_since_last_price_change + today_data_net_transfers_in_out_since_yesterday, unless price change occurs, then we reset to =\"Net Transfers In/Out since yesterday\n",
    "    \"net_transfers_in_out_this_day\": 0, #tomorrow, we define this as today_data.net_transfers_in_out_overall_as_of_today - yesterday_data.net_transfers_in_out_overall_as_of_today\n",
    "    \"price_change_so_far_for_this_event \": all_players_price_change_for_current_event,\n",
    "    \"total_active_players_estimate\": total_active_players_estimate,\n",
    "    \"players_injured\": boolean_list_of_players_injured,\n",
    "    \"player_prices_today\" : all_players_prices_today,\n",
    "    \"net_transfers_in_out_overall_as_of_today\" : net_transfers_overall_today, #not to be used in modelling\n",
    "    \"player_ids\" : todays_player_data.id,\n",
    "    \"player_name\": todays_player_data.web_name\n",
    "}\n",
    "\n",
    "# Dictionary into DataFrame\n",
    "today_data = pandas.DataFrame(price_change_dict)\n",
    "\n",
    "\n",
    "# Player transfer data is updated at least every 40 minutes, and probably every 30 or even every 15 minutes\n",
    "\n",
    "#save today's dataframe to today's folder\n",
    "# today_filepath = Path('/Users/thomasribaroff/Documents/GitHub/FullPipeline-FPLPricePredictor/feature-engineering-pipeline/Saved_Data/{}'.format(today))\n",
    "# today_data.to_csv('{}/{}.csv'.format(today_filepath,today), index=False) "
   ]
  },
  {
   "cell_type": "code",
   "execution_count": 13,
   "metadata": {},
   "outputs": [],
   "source": [
    "def update_yesterday_data_rows_align(yesterday_df, today_df):\n",
    "    # compare the ids from both datasets -> where a new player appears today, make sure you add that row to yesterday with nulls filling it\n",
    "    #                                    -> where a player is removed today, make sure you remove that row yesterday \n",
    "    \n",
    "    # Get the set of row identifiers from yesterday and today\n",
    "    yesterday_ids = set(yesterday_df.player_ids)\n",
    "    today_ids = set(today_df.player_ids)\n",
    "\n",
    "    # Find new rows added today\n",
    "    new_rows = today_ids - yesterday_ids\n",
    "\n",
    "    # Add new rows with null values to yesterday's dataframe\n",
    "    if new_rows:\n",
    "        new_rows_data = today_df[today_df.player_ids.isin(new_rows)]\n",
    "        yesterday_df = pandas.concat([yesterday_df, new_rows_data], ignore_index=True)\n",
    "\n",
    "    # Find rows removed today\n",
    "    removed_rows = yesterday_ids - today_ids\n",
    "\n",
    "    # Remove rows from yesterday's dataframe\n",
    "    if removed_rows:\n",
    "        yesterday_df = yesterday_df[~yesterday_df.player_ids.isin(removed_rows)]\n",
    "        \n",
    "    # rename index\n",
    "    today_df.index.rename('ids', inplace=True)\n",
    "    yesterday_df.index.rename('ids', inplace=True)\n",
    "\n",
    "    # sort values\n",
    "    yesterday_df = yesterday_df.sort_values(by='player_ids')\n",
    "    today_df = today_df.sort_values(by='player_ids')\n",
    "\n",
    "    # reset indexes\n",
    "    today_df.set_index('player_ids', inplace=True)\n",
    "    yesterday_df.set_index('player_ids', inplace=True)\n",
    "\n",
    "    return yesterday_df, today_df\n"
   ]
  },
  {
   "cell_type": "code",
   "execution_count": 14,
   "metadata": {},
   "outputs": [],
   "source": [
    "#update yesterday's dataframe with today's results \n",
    "\n",
    "#get yesterday's saved results \n",
    "yesterday_filepath = Path('/Users/thomasribaroff/Documents/GitHub/FullPipeline-FPLPricePredictor/feature-engineering-pipeline/Saved_Data/{}/{}.csv'.format(yesterday,yesterday))\n",
    "yesterday_data = pandas.read_csv(yesterday_filepath)\n",
    "\n",
    "# #ensure rows align, accounting for players being added/removed overnight\n",
    "yesterday_data, today_data = update_yesterday_data_rows_align(yesterday_data, today_data)\n",
    "\n",
    "# #updates \n",
    "yesterday_data.price_change_this_night = today_data.player_prices_today - yesterday_data.player_prices_today\n",
    "today_data.net_transfers_in_out_this_day = today_data.net_transfers_in_out_overall_as_of_today - yesterday_data.net_transfers_in_out_overall_as_of_today\n",
    "today_data.net_transfers_in_out_since_last_price_change = yesterday_data.net_transfers_in_out_since_last_price_change\n",
    "\n",
    "# Update net transfer since last price change in today's data \n",
    "yesterday_data.net_transfers_in_out_since_last_price_change = yesterday_data.net_transfers_in_out_since_last_price_change + yesterday_data.net_transfers_in_out_this_day\n",
    "\n",
    "#reset rule if price changed overnight \n",
    "boolean_player_changes = numpy.squeeze(yesterday_data.price_change_this_night != 0)\n",
    "today_data.net_transfers_in_out_since_last_price_change = [today_data.net_transfers_in_out_this_day[i] if boolean_player_changes[i] else today_data.net_transfers_in_out_since_last_price_change[i] for i in today_data.net_transfers_in_out_since_last_price_change.index]\n",
    "\n",
    "# #rewrite yesterday's file \n",
    "yesterday_data.to_csv(yesterday_filepath, index=False) #index=False?\n",
    "\n",
    "# #rewrite today's file \n",
    "today_filepath = Path('/Users/thomasribaroff/Documents/GitHub/FullPipeline-FPLPricePredictor/feature-engineering-pipeline/Saved_Data/{}/{}.csv'.format(today,today))\n",
    "today_data.to_csv(today_filepath) #index=False?"
   ]
  },
  {
   "cell_type": "code",
   "execution_count": 17,
   "metadata": {},
   "outputs": [
    {
     "data": {
      "text/html": [
       "<div>\n",
       "<style scoped>\n",
       "    .dataframe tbody tr th:only-of-type {\n",
       "        vertical-align: middle;\n",
       "    }\n",
       "\n",
       "    .dataframe tbody tr th {\n",
       "        vertical-align: top;\n",
       "    }\n",
       "\n",
       "    .dataframe thead th {\n",
       "        text-align: right;\n",
       "    }\n",
       "</style>\n",
       "<table border=\"1\" class=\"dataframe\">\n",
       "  <thead>\n",
       "    <tr style=\"text-align: right;\">\n",
       "      <th></th>\n",
       "      <th>price_change_this_night</th>\n",
       "      <th>net_transfers_in_out_since_last_price_change</th>\n",
       "      <th>net_transfers_in_out_this_day</th>\n",
       "      <th>price_change_so_far_for_this_event</th>\n",
       "      <th>total_active_players_estimate</th>\n",
       "      <th>players_injured</th>\n",
       "      <th>player_prices_today</th>\n",
       "      <th>net_transfers_in_out_overall_as_of_today</th>\n",
       "      <th>player_name</th>\n",
       "    </tr>\n",
       "    <tr>\n",
       "      <th>player_ids</th>\n",
       "      <th></th>\n",
       "      <th></th>\n",
       "      <th></th>\n",
       "      <th></th>\n",
       "      <th></th>\n",
       "      <th></th>\n",
       "      <th></th>\n",
       "      <th></th>\n",
       "      <th></th>\n",
       "    </tr>\n",
       "  </thead>\n",
       "  <tbody>\n",
       "    <tr>\n",
       "      <th>31</th>\n",
       "      <td>-1</td>\n",
       "      <td>-19676</td>\n",
       "      <td>-19676</td>\n",
       "      <td>0</td>\n",
       "      <td>5133285</td>\n",
       "      <td>False</td>\n",
       "      <td>52</td>\n",
       "      <td>218466</td>\n",
       "      <td>Zinchenko</td>\n",
       "    </tr>\n",
       "    <tr>\n",
       "      <th>294</th>\n",
       "      <td>1</td>\n",
       "      <td>54186</td>\n",
       "      <td>54186</td>\n",
       "      <td>0</td>\n",
       "      <td>5133285</td>\n",
       "      <td>False</td>\n",
       "      <td>82</td>\n",
       "      <td>1778985</td>\n",
       "      <td>Diogo J.</td>\n",
       "    </tr>\n",
       "    <tr>\n",
       "      <th>343</th>\n",
       "      <td>-1</td>\n",
       "      <td>-32773</td>\n",
       "      <td>-32773</td>\n",
       "      <td>0</td>\n",
       "      <td>5133285</td>\n",
       "      <td>False</td>\n",
       "      <td>68</td>\n",
       "      <td>2129658</td>\n",
       "      <td>J.Alvarez</td>\n",
       "    </tr>\n",
       "    <tr>\n",
       "      <th>617</th>\n",
       "      <td>1</td>\n",
       "      <td>35090</td>\n",
       "      <td>35090</td>\n",
       "      <td>0</td>\n",
       "      <td>5133285</td>\n",
       "      <td>False</td>\n",
       "      <td>70</td>\n",
       "      <td>567006</td>\n",
       "      <td>Højlund</td>\n",
       "    </tr>\n",
       "  </tbody>\n",
       "</table>\n",
       "</div>"
      ],
      "text/plain": [
       "            price_change_this_night  \\\n",
       "player_ids                            \n",
       "31                               -1   \n",
       "294                               1   \n",
       "343                              -1   \n",
       "617                               1   \n",
       "\n",
       "            net_transfers_in_out_since_last_price_change  \\\n",
       "player_ids                                                 \n",
       "31                                                -19676   \n",
       "294                                                54186   \n",
       "343                                               -32773   \n",
       "617                                                35090   \n",
       "\n",
       "            net_transfers_in_out_this_day  \\\n",
       "player_ids                                  \n",
       "31                                 -19676   \n",
       "294                                 54186   \n",
       "343                                -32773   \n",
       "617                                 35090   \n",
       "\n",
       "            price_change_so_far_for_this_event   \\\n",
       "player_ids                                        \n",
       "31                                            0   \n",
       "294                                           0   \n",
       "343                                           0   \n",
       "617                                           0   \n",
       "\n",
       "            total_active_players_estimate  players_injured  \\\n",
       "player_ids                                                   \n",
       "31                                5133285            False   \n",
       "294                               5133285            False   \n",
       "343                               5133285            False   \n",
       "617                               5133285            False   \n",
       "\n",
       "            player_prices_today  net_transfers_in_out_overall_as_of_today  \\\n",
       "player_ids                                                                  \n",
       "31                           52                                    218466   \n",
       "294                          82                                   1778985   \n",
       "343                          68                                   2129658   \n",
       "617                          70                                    567006   \n",
       "\n",
       "           player_name  \n",
       "player_ids              \n",
       "31           Zinchenko  \n",
       "294           Diogo J.  \n",
       "343          J.Alvarez  \n",
       "617            Højlund  "
      ]
     },
     "execution_count": 17,
     "metadata": {},
     "output_type": "execute_result"
    }
   ],
   "source": [
    "yesterday_data[yesterday_data.price_change_this_night != 0]"
   ]
  },
  {
   "cell_type": "markdown",
   "metadata": {},
   "source": [
    "### Prelim Modelling"
   ]
  },
  {
   "cell_type": "code",
   "execution_count": 31,
   "metadata": {},
   "outputs": [
    {
     "name": "stdout",
     "output_type": "stream",
     "text": [
      "Accuracy: 0.9938650306748467\n"
     ]
    }
   ],
   "source": [
    "# Read in yesterday's data, which should be a completed dataset if preprocessing has worked\n",
    "yesterday_data = pandas.read_csv(yesterday_filepath)\n",
    "\n",
    "# Split the data into features (X) and target (y)\n",
    "X = yesterday_data.drop(['price_change_this_night','net_transfers_in_out_this_day','player_prices_today','net_transfers_in_out_overall_as_of_today', 'player_name'], axis=1)\n",
    "y = yesterday_data['price_change_this_night']\n",
    "\n",
    "# Split the data into training and test sets\n",
    "X_train, X_test, y_train, y_test = train_test_split(X,y, test_size=0.2)\n",
    "\n",
    "# Fit a rudimentary RF Classifier \n",
    "rf = RandomForestClassifier()\n",
    "rf.fit(X_train, y_train)\n",
    "\n",
    "# Make Predictions for Test Set\n",
    "y_pred = rf.predict(X_test)\n",
    "\n",
    "# Evaluate Predictions\n",
    "accuracy = accuracy_score(y_test, y_pred)\n",
    "print(\"Accuracy:\", accuracy)"
   ]
  },
  {
   "cell_type": "code",
   "execution_count": 33,
   "metadata": {},
   "outputs": [
    {
     "data": {
      "text/plain": [
       "390    0\n",
       "330    0\n",
       "305    0\n",
       "367    0\n",
       "48     0\n",
       "      ..\n",
       "774    0\n",
       "442    0\n",
       "672    0\n",
       "497    0\n",
       "413    0\n",
       "Name: price_change_this_night, Length: 163, dtype: int64"
      ]
     },
     "execution_count": 33,
     "metadata": {},
     "output_type": "execute_result"
    }
   ],
   "source": [
    "y_test"
   ]
  },
  {
   "cell_type": "code",
   "execution_count": 1,
   "metadata": {},
   "outputs": [
    {
     "ename": "NameError",
     "evalue": "name 'y_pred' is not defined",
     "output_type": "error",
     "traceback": [
      "\u001b[0;31m---------------------------------------------------------------------------\u001b[0m",
      "\u001b[0;31mNameError\u001b[0m                                 Traceback (most recent call last)",
      "Cell \u001b[0;32mIn[1], line 1\u001b[0m\n\u001b[0;32m----> 1\u001b[0m \u001b[43my_pred\u001b[49m\n",
      "\u001b[0;31mNameError\u001b[0m: name 'y_pred' is not defined"
     ]
    }
   ],
   "source": [
    "y_pred"
   ]
  },
  {
   "cell_type": "code",
   "execution_count": null,
   "metadata": {},
   "outputs": [],
   "source": []
  },
  {
   "cell_type": "code",
   "execution_count": null,
   "metadata": {},
   "outputs": [],
   "source": []
  },
  {
   "cell_type": "markdown",
   "metadata": {},
   "source": [
    "### Personal Team Data"
   ]
  },
  {
   "cell_type": "code",
   "execution_count": null,
   "metadata": {},
   "outputs": [],
   "source": [
    "# Request Information on my team\n",
    "\n",
    "r_my_team = requests.get(base_url+'entry/{}/event/{}/picks/'.format(team_id,current_gameweek)).json()\n",
    "my_players_ids = list(map(operator.itemgetter('element'), r_my_team['picks']))\n",
    "my_players_ids\n",
    "\n",
    "# Get list of all player IDs\n",
    "total_list_of_players_ids = list(map(operator.itemgetter('id'), r_all_players_today['elements']))\n",
    "\n",
    "# Makes a list of all players that is TRUE is player is in my team\n",
    "boolean_list_of_players_in_my_team = [player in my_players_ids for player in total_list_of_players_ids]\n",
    "\n",
    "# Use boolean list to exact all info about my players this week\n",
    "my_players_total = [item for item, condition in zip(r_all_players_today['elements'], boolean_list_of_players_in_my_team) if condition]\n",
    "my_players_total\n",
    "\n",
    "# Print all my player's names\n",
    "for players in my_players_total:\n",
    "    print(players.get('web_name'))"
   ]
  }
 ],
 "metadata": {
  "kernelspec": {
   "display_name": "pipeline_fantasy_football",
   "language": "python",
   "name": "python3"
  },
  "language_info": {
   "codemirror_mode": {
    "name": "ipython",
    "version": 3
   },
   "file_extension": ".py",
   "mimetype": "text/x-python",
   "name": "python",
   "nbconvert_exporter": "python",
   "pygments_lexer": "ipython3",
   "version": "3.11.0"
  }
 },
 "nbformat": 4,
 "nbformat_minor": 2
}
