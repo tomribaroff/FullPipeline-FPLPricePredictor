{
 "cells": [
  {
   "cell_type": "code",
   "execution_count": 41,
   "metadata": {},
   "outputs": [],
   "source": [
    "import datetime\n",
    "from io import StringIO\n",
    "from fastapi import FastAPI\n",
    "from fastapi.responses import JSONResponse\n",
    "from google.cloud import storage\n",
    "from datetime import date\n",
    "from dotenv import load_dotenv\n",
    "import os\n",
    "from google.oauth2 import service_account\n",
    "import json \n",
    "import pandas as pd\n",
    "import numpy as np\n",
    "\n",
    "\n",
    "load_dotenv(override=True)\n",
    "\n",
    "creds = os.getenv('JSON_SA_READ_WRITE_PATH')\n",
    "gcp_project_id = os.getenv('GCP_PROJECT_ID')\n",
    "\n",
    "today = date.today()\n",
    "yesterday = today - datetime.timedelta(1)"
   ]
  },
  {
   "cell_type": "code",
   "execution_count": 46,
   "metadata": {},
   "outputs": [
    {
     "data": {
      "text/plain": [
       "{'players_who_changed_price':      price_change_this_night  net_transfers_in_out_since_last_price_change  \\\n",
       " 128                        1                                        132315   \n",
       " 531                       -1                                         -2749   \n",
       " 556                        1                                        216469   \n",
       " 566                        1                                        171480   \n",
       " 589                       -1                                       -119586   \n",
       " \n",
       "      net_transfers_in_out_this_day  price_change_so_far_for_this_event   \\\n",
       " 128                          33965                                    0   \n",
       " 531                           -551                                    0   \n",
       " 556                          62852                                    0   \n",
       " 566                          44007                                    0   \n",
       " 589                         -24296                                    0   \n",
       " \n",
       "      total_active_players_estimate  players_injured  player_prices_today  \\\n",
       " 128                        4993946            False                   50   \n",
       " 531                        4993946            False                   45   \n",
       " 556                        4993946            False                   55   \n",
       " 566                        4993946            False                   57   \n",
       " 589                        4993946             True                   57   \n",
       " \n",
       "      net_transfers_in_out_overall_as_of_today player_name  \n",
       " 128                                    -57459        Dunk  \n",
       " 531                                    194668     Emerson  \n",
       " 556                                    426401    Hee Chan  \n",
       " 566                                    404632        Neto  \n",
       " 589                                    322437       Cunha  }"
      ]
     },
     "execution_count": 46,
     "metadata": {},
     "output_type": "execute_result"
    }
   ],
   "source": [
    "gcp_bucket_name = os.getenv('GCP_BUCKET_NAME_STORE')\n",
    "bucket_file_path = f\"{yesterday}/{yesterday}.csv\"\n",
    "\n",
    "# Load service account credentials from JSON file\n",
    "with open(creds) as json_file:\n",
    "    data = json.load(json_file)\n",
    "\n",
    "# Create service account credentials from JSON keyfile\n",
    "credentials = service_account.Credentials.from_service_account_info(data)\n",
    "\n",
    "# Create a Google Cloud Storage client with the provided credentials and project ID\n",
    "client = storage.Client(credentials=credentials, project=gcp_project_id)\n",
    "\n",
    "# Get the specified bucket\n",
    "bucket = client.get_bucket(gcp_bucket_name)\n",
    "\n",
    "# Get the blob (CSV file) from the bucket\n",
    "blob = bucket.blob(bucket_file_path)\n",
    "\n",
    "# Download the contents of the blob as a string\n",
    "csv_content = blob.download_as_text()\n",
    "\n",
    "# Create a Pandas DataFrame from the CSV content\n",
    "df = pd.read_csv(StringIO(csv_content))\n",
    "\n",
    "# Filter results for just those who's price change we predict \n",
    "df = df[df.price_change_this_night != 0] \n",
    "\n",
    "prediction_result = {\"players_who_changed_price\": df}\n",
    "\n",
    "prediction_result"
   ]
  },
  {
   "cell_type": "code",
   "execution_count": null,
   "metadata": {},
   "outputs": [],
   "source": []
  }
 ],
 "metadata": {
  "kernelspec": {
   "display_name": "pipeline_fantasy_football",
   "language": "python",
   "name": "python3"
  },
  "language_info": {
   "codemirror_mode": {
    "name": "ipython",
    "version": 3
   },
   "file_extension": ".py",
   "mimetype": "text/x-python",
   "name": "python",
   "nbconvert_exporter": "python",
   "pygments_lexer": "ipython3",
   "version": "3.11.0"
  }
 },
 "nbformat": 4,
 "nbformat_minor": 2
}
